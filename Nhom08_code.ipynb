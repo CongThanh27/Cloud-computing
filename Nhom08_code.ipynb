{
 "cells": [
  {
   "cell_type": "markdown",
   "id": "6dd598c4",
   "metadata": {},
   "source": [
    "# Ghi Parquet file từ CSV\n",
    "### Trong phần bên dưới, chúng ta sẽ chuyển đổi file CSV thành Parquet file\n",
    "* Sử dụng Spark trên EMR cluster để đọc data từ S3 Bucket\n",
    "* Thực hiện ghi Parquet file từ dataframe được đọc từ file CSV\n",
    "* Thực hiện đọc Parquet file\n",
    "* Thực hiện một số thao tác truy vấn cơ bản với dataframe được tạo từ Parquet file"
   ]
  },
  {
   "cell_type": "markdown",
   "id": "b7dc9675",
   "metadata": {},
   "source": [
    "#### Kiểm tra kết nối giữa AWS EMR Cluster và Notebook instance"
   ]
  },
  {
   "cell_type": "code",
   "execution_count": 24,
   "id": "6aee459a",
   "metadata": {},
   "outputs": [
    {
     "data": {
      "text/html": [
       "Current session configs: <tt>{'driverMemory': '1000M', 'executorCores': 2, 'kind': 'spark'}</tt><br>"
      ],
      "text/plain": [
       "<IPython.core.display.HTML object>"
      ]
     },
     "metadata": {},
     "output_type": "display_data"
    },
    {
     "data": {
      "text/html": [
       "<table>\n",
       "<tr><th>ID</th><th>YARN Application ID</th><th>Kind</th><th>State</th><th>Spark UI</th><th>Driver log</th><th>User</th><th>Current session?</th></tr><tr><td>3</td><td>application_1670081014291_0004</td><td>spark</td><td>idle</td><td><a target=\"_blank\" href=\"http://ip-172-31-93-60.ec2.internal:20888/proxy/application_1670081014291_0004/\">Link</a></td><td><a target=\"_blank\" href=\"http://ip-172-31-81-249.ec2.internal:8042/node/containerlogs/container_1670081014291_0004_01_000001/livy\">Link</a></td><td>None</td><td>✔</td></tr></table>"
      ],
      "text/plain": [
       "<IPython.core.display.HTML object>"
      ]
     },
     "metadata": {},
     "output_type": "display_data"
    }
   ],
   "source": [
    "%%info"
   ]
  },
  {
   "cell_type": "markdown",
   "id": "58aaf2ad",
   "metadata": {},
   "source": [
    "#### Đọc file CSV"
   ]
  },
  {
   "cell_type": "code",
   "execution_count": 3,
   "id": "63f25a30",
   "metadata": {},
   "outputs": [
    {
     "data": {
      "application/vnd.jupyter.widget-view+json": {
       "model_id": "a28d66c1db05487992db2c1c27ff9279",
       "version_major": 2,
       "version_minor": 0
      },
      "text/plain": [
       "FloatProgress(value=0.0, bar_style='info', description='Progress:', layout=Layout(height='25px', width='50%'),…"
      ]
     },
     "metadata": {},
     "output_type": "display_data"
    },
    {
     "name": "stdout",
     "output_type": "stream",
     "text": [
      "df: org.apache.spark.sql.DataFrame = [row_id: string, timestamp: string ... 8 more fields]\n"
     ]
    }
   ],
   "source": [
    "val df = spark.read.format(\"csv\").option(\"header\", true).load(\"s3://group8bucket/train.csv\")"
   ]
  },
  {
   "cell_type": "markdown",
   "id": "8b51c2c4",
   "metadata": {},
   "source": [
    "#### Thực hiện một số lệnh cơ bản với dataframe\n",
    "* Hàm count()\n",
    "* Hàm show()"
   ]
  },
  {
   "cell_type": "code",
   "execution_count": 4,
   "id": "15fb3346",
   "metadata": {},
   "outputs": [
    {
     "data": {
      "application/vnd.jupyter.widget-view+json": {
       "model_id": "96a76e30ec1f4f279acd3a2a6293487c",
       "version_major": 2,
       "version_minor": 0
      },
      "text/plain": [
       "FloatProgress(value=0.0, bar_style='info', description='Progress:', layout=Layout(height='25px', width='50%'),…"
      ]
     },
     "metadata": {},
     "output_type": "display_data"
    },
    {
     "name": "stdout",
     "output_type": "stream",
     "text": [
      "res1: Long = 101230332\n"
     ]
    }
   ],
   "source": [
    "df.count()"
   ]
  },
  {
   "cell_type": "code",
   "execution_count": 5,
   "id": "f956235a",
   "metadata": {},
   "outputs": [
    {
     "data": {
      "application/vnd.jupyter.widget-view+json": {
       "model_id": "595747ed258f41398136879534ba6a2c",
       "version_major": 2,
       "version_minor": 0
      },
      "text/plain": [
       "FloatProgress(value=0.0, bar_style='info', description='Progress:', layout=Layout(height='25px', width='50%'),…"
      ]
     },
     "metadata": {},
     "output_type": "display_data"
    },
    {
     "name": "stdout",
     "output_type": "stream",
     "text": [
      "+------+---------+-------+----------+---------------+-----------------+-----------+------------------+---------------------------+------------------------------+\n",
      "|row_id|timestamp|user_id|content_id|content_type_id|task_container_id|user_answer|answered_correctly|prior_question_elapsed_time|prior_question_had_explanation|\n",
      "+------+---------+-------+----------+---------------+-----------------+-----------+------------------+---------------------------+------------------------------+\n",
      "|     0|        0|    115|      5692|              0|                1|          3|                 1|                       null|                          null|\n",
      "|     1|    56943|    115|      5716|              0|                2|          2|                 1|                    37000.0|                         False|\n",
      "|     2|   118363|    115|       128|              0|                0|          0|                 1|                    55000.0|                         False|\n",
      "|     3|   131167|    115|      7860|              0|                3|          0|                 1|                    19000.0|                         False|\n",
      "|     4|   137965|    115|      7922|              0|                4|          1|                 1|                    11000.0|                         False|\n",
      "|     5|   157063|    115|       156|              0|                5|          2|                 1|                     5000.0|                         False|\n",
      "|     6|   176092|    115|        51|              0|                6|          0|                 1|                    17000.0|                         False|\n",
      "|     7|   194190|    115|        50|              0|                7|          3|                 1|                    17000.0|                         False|\n",
      "|     8|   212463|    115|      7896|              0|                8|          2|                 1|                    16000.0|                         False|\n",
      "|     9|   230983|    115|      7863|              0|                9|          0|                 1|                    16000.0|                         False|\n",
      "|    10|   255381|    115|       152|              0|               10|          2|                 0|                    17000.0|                         False|\n",
      "|    11|   280033|    115|       104|              0|               11|          1|                 0|                    22000.0|                         False|\n",
      "|    12|   302994|    115|       108|              0|               12|          1|                 0|                    23000.0|                         False|\n",
      "|    13|   328686|    115|      7900|              0|               13|          0|                 1|                    21000.0|                         False|\n",
      "|    14|   352686|    115|      7901|              0|               14|          1|                 1|                    24000.0|                         False|\n",
      "|    15|   376162|    115|      7971|              0|               15|          2|                 1|                    22000.0|                         False|\n",
      "|    16|   398020|    115|        25|              0|               16|          1|                 1|                    21000.0|                         False|\n",
      "|    17|   418008|    115|       183|              0|               17|          0|                 0|                    20000.0|                         False|\n",
      "|    18|   437272|    115|      7926|              0|               18|          1|                 1|                    18000.0|                         False|\n",
      "|    19|   468511|    115|      7927|              0|               19|          3|                 1|                    17000.0|                         False|\n",
      "|    20|   490100|    115|         4|              0|               20|          1|                 0|                    29000.0|                         False|\n",
      "|    21|   510583|    115|      7984|              0|               21|          3|                 0|                    20000.0|                         False|\n",
      "|    22|   534187|    115|        45|              0|               22|          2|                 0|                    19000.0|                         False|\n",
      "|    23|   557677|    115|       185|              0|               23|          3|                 0|                    21000.0|                         False|\n",
      "|    24|   575289|    115|        55|              0|               24|          3|                 1|                    22000.0|                         False|\n",
      "|    25|   597863|    115|      7876|              0|               25|          3|                 1|                    16000.0|                         False|\n",
      "|    26|   621464|    115|         6|              0|               26|          2|                 1|                    20000.0|                         False|\n",
      "|    27|   645415|    115|       172|              0|               27|          1|                 1|                    22000.0|                         False|\n",
      "|    28|   670520|    115|      7898|              0|               28|          2|                 1|                    22000.0|                         False|\n",
      "|    29|   692971|    115|       175|              0|               29|          0|                 0|                    23000.0|                         False|\n",
      "|    30|   710402|    115|       100|              0|               30|          0|                 1|                    20000.0|                         False|\n",
      "|    31|   732421|    115|      7859|              0|               31|          3|                 0|                    15000.0|                         False|\n",
      "|    32|  1219624|    115|        57|              0|               32|          0|                 1|                    20000.0|                         False|\n",
      "|    33|  1252621|    115|      7948|              0|               33|          0|                 1|                    20000.0|                          True|\n",
      "|    34|  1284094|    115|       151|              0|               34|          3|                 1|                    22000.0|                          True|\n",
      "|    35|  1320874|    115|       167|              0|               35|          2|                 1|                    19000.0|                          True|\n",
      "|    36|  1359412|    115|      7897|              0|               36|          3|                 0|                    17000.0|                          True|\n",
      "|    37|  1415188|    115|      7882|              0|               37|          2|                 1|                    20000.0|                          True|\n",
      "|    38|  1468285|    115|      7962|              0|               38|          3|                 1|                    17000.0|                          True|\n",
      "|    39|667861680|    115|      1278|              0|               39|          3|                 1|                    21000.0|                         False|\n",
      "|    40|667971812|    115|      2065|              0|               40|          2|                 1|                    17000.0|                         False|\n",
      "|    41|667971812|    115|      2064|              0|               40|          1|                 1|                    17000.0|                         False|\n",
      "|    42|667971812|    115|      2063|              0|               40|          3|                 0|                    17000.0|                         False|\n",
      "|    43|668090043|    115|      3363|              0|               41|          1|                 0|                    14333.0|                         False|\n",
      "|    44|668090043|    115|      3365|              0|               41|          0|                 0|                    14333.0|                         False|\n",
      "|    45|668090043|    115|      3364|              0|               41|          1|                 1|                    14333.0|                         False|\n",
      "|    46|        0|    124|      7900|              0|                0|          0|                 1|                       null|                          null|\n",
      "|    47|    32683|    124|      7876|              0|                1|          0|                 0|                    26000.0|                         False|\n",
      "|    48|    62000|    124|       175|              0|                2|          2|                 1|                    29000.0|                         False|\n",
      "|    49|    83632|    124|      1278|              0|                3|          1|                 0|                    26000.0|                         False|\n",
      "+------+---------+-------+----------+---------------+-----------------+-----------+------------------+---------------------------+------------------------------+\n",
      "only showing top 50 rows\n",
      "\n"
     ]
    }
   ],
   "source": [
    "df.show(50)"
   ]
  },
  {
   "cell_type": "markdown",
   "id": "b25caa79",
   "metadata": {},
   "source": [
    "#### Thêm thự viện SaveMode\n",
    "##### Thư viện này dùng để thay đổi chế độ ghi file parquet bao gồm:\n",
    "* Append: Dữ liệu sẽ được nối thêm ở địa chỉ ghi\n",
    "* Overwrite: Dữ liệu có sẵn sẽ được thay thế bởi dữ liệu được ghi mới"
   ]
  },
  {
   "cell_type": "code",
   "execution_count": 7,
   "id": "01de1af7",
   "metadata": {},
   "outputs": [
    {
     "data": {
      "application/vnd.jupyter.widget-view+json": {
       "model_id": "28dc50414d344f65b46fee5e60beb440",
       "version_major": 2,
       "version_minor": 0
      },
      "text/plain": [
       "FloatProgress(value=0.0, bar_style='info', description='Progress:', layout=Layout(height='25px', width='50%'),…"
      ]
     },
     "metadata": {},
     "output_type": "display_data"
    },
    {
     "name": "stdout",
     "output_type": "stream",
     "text": [
      "import org.apache.spark.sql.SaveMode\n"
     ]
    }
   ],
   "source": [
    "import org.apache.spark.sql.SaveMode"
   ]
  },
  {
   "cell_type": "markdown",
   "id": "0143ea77",
   "metadata": {},
   "source": [
    "#### Thực hiện ghi Parquet file với chế độ Append với dữ liệu được lấy từ df (CSV)"
   ]
  },
  {
   "cell_type": "code",
   "execution_count": 8,
   "id": "e9270f9e",
   "metadata": {},
   "outputs": [
    {
     "data": {
      "application/vnd.jupyter.widget-view+json": {
       "model_id": "d216ace520da43b7872596a0c7a24f22",
       "version_major": 2,
       "version_minor": 0
      },
      "text/plain": [
       "FloatProgress(value=0.0, bar_style='info', description='Progress:', layout=Layout(height='25px', width='50%'),…"
      ]
     },
     "metadata": {},
     "output_type": "display_data"
    }
   ],
   "source": [
    "df.select(\"*\").write.mode(SaveMode.Append).format(\"parquet\").save(\"s3://group8bucket/output/\")"
   ]
  },
  {
   "cell_type": "markdown",
   "id": "68e7ee6f",
   "metadata": {},
   "source": [
    "#### Biến môi trường để đọc Parquet file"
   ]
  },
  {
   "cell_type": "code",
   "execution_count": 9,
   "id": "ce14623c",
   "metadata": {},
   "outputs": [
    {
     "data": {
      "application/vnd.jupyter.widget-view+json": {
       "model_id": "77d4c6df794f4e6eb5e3083c53f72c29",
       "version_major": 2,
       "version_minor": 0
      },
      "text/plain": [
       "FloatProgress(value=0.0, bar_style='info', description='Progress:', layout=Layout(height='25px', width='50%'),…"
      ]
     },
     "metadata": {},
     "output_type": "display_data"
    },
    {
     "name": "stdout",
     "output_type": "stream",
     "text": [
      "warning: one deprecation (since 2.0.0); for details, enable `:setting -deprecation' or `:replay -deprecation'\n",
      "sqlContext: org.apache.spark.sql.SQLContext = org.apache.spark.sql.SQLContext@72f53673\n"
     ]
    }
   ],
   "source": [
    "val sqlContext = new org.apache.spark.sql.SQLContext(sc)"
   ]
  },
  {
   "cell_type": "markdown",
   "id": "2c17efb8",
   "metadata": {},
   "source": [
    "#### Thực hiện đọc Parquet file từ S3 Bucket"
   ]
  },
  {
   "cell_type": "code",
   "execution_count": 10,
   "id": "a441e614",
   "metadata": {},
   "outputs": [
    {
     "data": {
      "application/vnd.jupyter.widget-view+json": {
       "model_id": "937ea32019cb4bb58aaefacdce998643",
       "version_major": 2,
       "version_minor": 0
      },
      "text/plain": [
       "FloatProgress(value=0.0, bar_style='info', description='Progress:', layout=Layout(height='25px', width='50%'),…"
      ]
     },
     "metadata": {},
     "output_type": "display_data"
    },
    {
     "name": "stdout",
     "output_type": "stream",
     "text": [
      "dftrain: org.apache.spark.sql.DataFrame = [row_id: string, timestamp: string ... 8 more fields]\n"
     ]
    }
   ],
   "source": [
    "val dftrain = sqlContext.read.parquet(\"s3://group8bucket/output/\")"
   ]
  },
  {
   "cell_type": "code",
   "execution_count": 11,
   "id": "1708bccb",
   "metadata": {},
   "outputs": [
    {
     "data": {
      "application/vnd.jupyter.widget-view+json": {
       "model_id": "b89ec17f7f614dbc88b71e3c185527f3",
       "version_major": 2,
       "version_minor": 0
      },
      "text/plain": [
       "FloatProgress(value=0.0, bar_style='info', description='Progress:', layout=Layout(height='25px', width='50%'),…"
      ]
     },
     "metadata": {},
     "output_type": "display_data"
    },
    {
     "name": "stdout",
     "output_type": "stream",
     "text": [
      "+-------+----------+---------+----------+---------------+-----------------+-----------+------------------+---------------------------+------------------------------+\n",
      "| row_id| timestamp|  user_id|content_id|content_type_id|task_container_id|user_answer|answered_correctly|prior_question_elapsed_time|prior_question_had_explanation|\n",
      "+-------+----------+---------+----------+---------------+-----------------+-----------+------------------+---------------------------+------------------------------+\n",
      "|4876812|1316378367|104334599|      7888|              0|              249|          0|                 1|                    21000.0|                          True|\n",
      "|4876813|1320646728|104334599|      8011|              0|              251|          2|                 0|                    22000.0|                         False|\n",
      "|4876814|1322487215|104334599|      6051|              0|              252|          2|                 0|                    51000.0|                          True|\n",
      "|4876815|1322505627|104334599|      4436|              0|              253|          2|                 1|                    12000.0|                          True|\n",
      "|4876816|1322610153|104334599|      4452|              0|              254|          0|                 1|                    12000.0|                          True|\n",
      "|4876817|1322733979|104334599|      9032|              0|              255|          2|                 1|                    28000.0|                          True|\n",
      "|4876818|1322802712|104334599|      5226|              0|              256|          3|                 1|                    20000.0|                          True|\n",
      "|4876819|1322856697|104334599|      4405|              0|              257|          1|                 1|                    15000.0|                          True|\n",
      "|4876820|1322949398|104334599|      6444|              0|              258|          0|                 1|                    23000.0|                          True|\n",
      "|4876821|1323093406|104334599|      9088|              0|              259|          3|                 1|                    33000.0|                          True|\n",
      "|4876822|1323185785|104334599|      5197|              0|              260|          0|                 1|                    28000.0|                          True|\n",
      "|4876823|1323437335|104334599|      7965|              0|              261|          0|                 1|                    28000.0|                         False|\n",
      "|4876824|1323916084|104334599|       509|              0|              262|          0|                 1|                    21000.0|                         False|\n",
      "|4876825|1324046255|104334599|       237|              0|              263|          1|                 1|                    18000.0|                          True|\n",
      "|4876826|1324218002|104334599|       394|              0|              264|          3|                 1|                    17000.0|                          True|\n",
      "+-------+----------+---------+----------+---------------+-----------------+-----------+------------------+---------------------------+------------------------------+\n",
      "only showing top 15 rows\n",
      "\n"
     ]
    }
   ],
   "source": [
    "dftrain.show(15)"
   ]
  },
  {
   "cell_type": "markdown",
   "id": "1116b426",
   "metadata": {},
   "source": [
    "#### Thực hiện tạo view ParquetTable từ dataframe được đọc từ Parquet file "
   ]
  },
  {
   "cell_type": "code",
   "execution_count": 12,
   "id": "34d273b5",
   "metadata": {},
   "outputs": [
    {
     "data": {
      "application/vnd.jupyter.widget-view+json": {
       "model_id": "b8cd8b67ff5440a7b410b63e8fd1e3e0",
       "version_major": 2,
       "version_minor": 0
      },
      "text/plain": [
       "FloatProgress(value=0.0, bar_style='info', description='Progress:', layout=Layout(height='25px', width='50%'),…"
      ]
     },
     "metadata": {},
     "output_type": "display_data"
    }
   ],
   "source": [
    "dftrain.createOrReplaceTempView(\"ParquetTable\")"
   ]
  },
  {
   "cell_type": "markdown",
   "id": "d911464b",
   "metadata": {},
   "source": [
    "#### Thực hiện một số truy vấn cơ bản với table ParquetTable"
   ]
  },
  {
   "cell_type": "code",
   "execution_count": 25,
   "id": "d78c65cf",
   "metadata": {},
   "outputs": [
    {
     "data": {
      "application/vnd.jupyter.widget-view+json": {
       "model_id": "ddd29ddfc36f4a28867e89c0fd3f5e3e",
       "version_major": 2,
       "version_minor": 0
      },
      "text/plain": [
       "FloatProgress(value=0.0, bar_style='info', description='Progress:', layout=Layout(height='25px', width='50%'),…"
      ]
     },
     "metadata": {},
     "output_type": "display_data"
    },
    {
     "name": "stdout",
     "output_type": "stream",
     "text": [
      "+-------+----------+---------+----------+---------------+-----------------+-----------+------------------+---------------------------+------------------------------+\n",
      "| row_id| timestamp|  user_id|content_id|content_type_id|task_container_id|user_answer|answered_correctly|prior_question_elapsed_time|prior_question_had_explanation|\n",
      "+-------+----------+---------+----------+---------------+-----------------+-----------+------------------+---------------------------+------------------------------+\n",
      "|4876812|1316378367|104334599|      7888|              0|              249|          0|                 1|                    21000.0|                          True|\n",
      "|4876813|1320646728|104334599|      8011|              0|              251|          2|                 0|                    22000.0|                         False|\n",
      "|4876814|1322487215|104334599|      6051|              0|              252|          2|                 0|                    51000.0|                          True|\n",
      "|4876815|1322505627|104334599|      4436|              0|              253|          2|                 1|                    12000.0|                          True|\n",
      "|4876816|1322610153|104334599|      4452|              0|              254|          0|                 1|                    12000.0|                          True|\n",
      "|4876817|1322733979|104334599|      9032|              0|              255|          2|                 1|                    28000.0|                          True|\n",
      "|4876818|1322802712|104334599|      5226|              0|              256|          3|                 1|                    20000.0|                          True|\n",
      "|4876819|1322856697|104334599|      4405|              0|              257|          1|                 1|                    15000.0|                          True|\n",
      "|4876820|1322949398|104334599|      6444|              0|              258|          0|                 1|                    23000.0|                          True|\n",
      "|4876821|1323093406|104334599|      9088|              0|              259|          3|                 1|                    33000.0|                          True|\n",
      "|4876822|1323185785|104334599|      5197|              0|              260|          0|                 1|                    28000.0|                          True|\n",
      "|4876823|1323437335|104334599|      7965|              0|              261|          0|                 1|                    28000.0|                         False|\n",
      "|4876824|1323916084|104334599|       509|              0|              262|          0|                 1|                    21000.0|                         False|\n",
      "|4876825|1324046255|104334599|       237|              0|              263|          1|                 1|                    18000.0|                          True|\n",
      "|4876826|1324218002|104334599|       394|              0|              264|          3|                 1|                    17000.0|                          True|\n",
      "|4876827|1324402555|104334599|      1054|              0|              265|          1|                 1|                    17000.0|                          True|\n",
      "|4876828|1324565259|104334599|      1361|              0|              266|          3|                 1|                    14000.0|                          True|\n",
      "|4876829|1324650406|104334599|      1321|              0|              267|          3|                 1|                    17000.0|                          True|\n",
      "|4876830|1325577017|104334599|      7789|              0|              250|          0|                 0|                    17000.0|                         False|\n",
      "|4876831|1325577017|104334599|      7788|              0|              250|          1|                 1|                    17000.0|                         False|\n",
      "+-------+----------+---------+----------+---------------+-----------------+-----------+------------------+---------------------------+------------------------------+\n",
      "only showing top 20 rows\n",
      "\n"
     ]
    }
   ],
   "source": [
    "spark.sql(\"SELECT * FROM ParquetTable\").show()"
   ]
  },
  {
   "cell_type": "code",
   "execution_count": 13,
   "id": "27493580",
   "metadata": {},
   "outputs": [
    {
     "data": {
      "application/vnd.jupyter.widget-view+json": {
       "model_id": "e973d36c355a45beb18c745120543fc0",
       "version_major": 2,
       "version_minor": 0
      },
      "text/plain": [
       "FloatProgress(value=0.0, bar_style='info', description='Progress:', layout=Layout(height='25px', width='50%'),…"
      ]
     },
     "metadata": {},
     "output_type": "display_data"
    },
    {
     "name": "stdout",
     "output_type": "stream",
     "text": [
      "+-------+----------+---------+----------+---------------+-----------------+-----------+------------------+---------------------------+------------------------------+\n",
      "| row_id| timestamp|  user_id|content_id|content_type_id|task_container_id|user_answer|answered_correctly|prior_question_elapsed_time|prior_question_had_explanation|\n",
      "+-------+----------+---------+----------+---------------+-----------------+-----------+------------------+---------------------------+------------------------------+\n",
      "|4876813|1320646728|104334599|      8011|              0|              251|          2|                 0|                    22000.0|                         False|\n",
      "|4876814|1322487215|104334599|      6051|              0|              252|          2|                 0|                    51000.0|                          True|\n",
      "|4876815|1322505627|104334599|      4436|              0|              253|          2|                 1|                    12000.0|                          True|\n",
      "|4876817|1322733979|104334599|      9032|              0|              255|          2|                 1|                    28000.0|                          True|\n",
      "|4876818|1322802712|104334599|      5226|              0|              256|          3|                 1|                    20000.0|                          True|\n",
      "|4876821|1323093406|104334599|      9088|              0|              259|          3|                 1|                    33000.0|                          True|\n",
      "|4876826|1324218002|104334599|       394|              0|              264|          3|                 1|                    17000.0|                          True|\n",
      "|4876828|1324565259|104334599|      1361|              0|              266|          3|                 1|                    14000.0|                          True|\n",
      "|4876829|1324650406|104334599|      1321|              0|              267|          3|                 1|                    17000.0|                          True|\n",
      "|4876834|1325577017|104334599|      7787|              0|              250|          3|                 0|                    17000.0|                         False|\n",
      "|4876835|1326190114|104334599|      7452|              0|              268|          2|                 1|                    49600.0|                         False|\n",
      "|4876836|1326190114|104334599|      7455|              0|              268|          3|                 1|                    49600.0|                         False|\n",
      "|4876840|1326378344|104334599|      7571|              0|              269|          2|                 1|                    37250.0|                          True|\n",
      "|4876843|1326692106|104334599|      6167|              0|              271|          2|                 1|                    47000.0|                         False|\n",
      "|4876844|1326724696|104334599|      5220|              0|              272|          3|                 1|                    21000.0|                          True|\n",
      "|4876845|1327367285|104334599|      2129|              0|              273|          3|                 1|                    11000.0|                          True|\n",
      "|4876846|1327367285|104334599|      2131|              0|              273|          3|                 1|                    11000.0|                          True|\n",
      "|4876855|1346864295|104334599|      1722|              0|              276|          3|                 0|                    40666.0|                         False|\n",
      "|4876856|1346864295|104334599|      1721|              0|              276|          2|                 1|                    40666.0|                         False|\n",
      "|4876857|1347417827|104334599|      1639|              0|              277|          3|                 0|                    36666.0|                          True|\n",
      "+-------+----------+---------+----------+---------------+-----------------+-----------+------------------+---------------------------+------------------------------+\n",
      "only showing top 20 rows\n",
      "\n"
     ]
    }
   ],
   "source": [
    "spark.sql(\"SELECT * FROM ParquetTable where user_answer >= 2\").show()"
   ]
  },
  {
   "cell_type": "code",
   "execution_count": 14,
   "id": "cb3427a6",
   "metadata": {},
   "outputs": [
    {
     "data": {
      "application/vnd.jupyter.widget-view+json": {
       "model_id": "a49d3c7d15f2491e89148d6d1caf89e6",
       "version_major": 2,
       "version_minor": 0
      },
      "text/plain": [
       "FloatProgress(value=0.0, bar_style='info', description='Progress:', layout=Layout(height='25px', width='50%'),…"
      ]
     },
     "metadata": {},
     "output_type": "display_data"
    },
    {
     "name": "stdout",
     "output_type": "stream",
     "text": [
      "+-------+----------+---------+----------+---------------+-----------------+-----------+------------------+---------------------------+------------------------------+\n",
      "| row_id| timestamp|  user_id|content_id|content_type_id|task_container_id|user_answer|answered_correctly|prior_question_elapsed_time|prior_question_had_explanation|\n",
      "+-------+----------+---------+----------+---------------+-----------------+-----------+------------------+---------------------------+------------------------------+\n",
      "|4876813|1320646728|104334599|      8011|              0|              251|          2|                 0|                    22000.0|                         False|\n",
      "|4876814|1322487215|104334599|      6051|              0|              252|          2|                 0|                    51000.0|                          True|\n",
      "|4876830|1325577017|104334599|      7789|              0|              250|          0|                 0|                    17000.0|                         False|\n",
      "|4876832|1325577017|104334599|      7785|              0|              250|          0|                 0|                    17000.0|                         False|\n",
      "|4876833|1325577017|104334599|      7786|              0|              250|          0|                 0|                    17000.0|                         False|\n",
      "|4876834|1325577017|104334599|      7787|              0|              250|          3|                 0|                    17000.0|                         False|\n",
      "|4876841|1326378344|104334599|      7570|              0|              269|          1|                 0|                    37250.0|                          True|\n",
      "|4876848|1327643083|104334599|      2205|              0|              274|          0|                 0|                    23333.0|                         False|\n",
      "|4876850|1327643083|104334599|      2203|              0|              274|          1|                 0|                    23333.0|                         False|\n",
      "|4876853|1327839342|104334599|      2352|              0|              275|          1|                 0|                    19333.0|                          True|\n",
      "|4876855|1346864295|104334599|      1722|              0|              276|          3|                 0|                    40666.0|                         False|\n",
      "|4876857|1347417827|104334599|      1639|              0|              277|          3|                 0|                    36666.0|                          True|\n",
      "|4876863|1348222045|104334599|      2231|              0|              279|          0|                 0|                    47333.0|                          True|\n",
      "|4876877|1384269167|104334599|       919|              0|              291|          0|                 0|                    14000.0|                         False|\n",
      "|4876897|1385974322|104334599|      4476|              0|              311|          2|                 0|                    18000.0|                          True|\n",
      "|4876900|1386106406|104334599|      9150|              0|              314|          1|                 0|                    15000.0|                          True|\n",
      "|4876901|1386183554|104334599|      5668|              0|              315|          0|                 0|                    14000.0|                          True|\n",
      "|4876908|1464648313|104334599|      9546|              0|              323|          1|                 0|                     8000.0|                          True|\n",
      "|4876909|1464704021|104334599|      4725|              0|              324|          3|                 0|                    27000.0|                          True|\n",
      "|4876911|1464840780|104334599|      6124|              0|              326|          3|                 0|                    27000.0|                          True|\n",
      "+-------+----------+---------+----------+---------------+-----------------+-----------+------------------+---------------------------+------------------------------+\n",
      "only showing top 20 rows\n",
      "\n"
     ]
    }
   ],
   "source": [
    "spark.sql(\"SELECT * FROM ParquetTable where answered_correctly = 0\").show()"
   ]
  },
  {
   "cell_type": "markdown",
   "id": "f7cc1853",
   "metadata": {},
   "source": [
    "#### Kết thúc bài làm."
   ]
  },
  {
   "cell_type": "code",
   "execution_count": null,
   "id": "2fda094d",
   "metadata": {},
   "outputs": [],
   "source": []
  }
 ],
 "metadata": {
  "kernelspec": {
   "display_name": "Sparkmagic (Spark)",
   "language": "scala",
   "name": "sparkkernel"
  },
  "language_info": {
   "codemirror_mode": "text/x-scala",
   "file_extension": ".sc",
   "mimetype": "text/x-scala",
   "name": "scala",
   "pygments_lexer": "scala"
  }
 },
 "nbformat": 4,
 "nbformat_minor": 5
}
